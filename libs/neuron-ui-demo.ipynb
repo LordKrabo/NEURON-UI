{
 "cells": [
  {
   "cell_type": "code",
   "execution_count": 1,
   "metadata": {
    "collapsed": false
   },
   "outputs": [
    {
     "name": "stdout",
     "output_type": "stream",
     "text": [
      "Using matplotlib backend: GTK3Agg\n",
      "Loading Model...\n"
     ]
    }
   ],
   "source": [
    "%matplotlib\n",
    "import GeppettoNeuron \n",
    "GeppettoNeuron.init()"
   ]
  },
  {
   "cell_type": "code",
   "execution_count": 3,
   "metadata": {
    "collapsed": false
   },
   "outputs": [],
   "source": [
    "analysis()"
   ]
  }
 ],
 "metadata": {
  "kernelspec": {
   "display_name": "Python 3",
   "language": "python",
   "name": "python3"
  },
  "language_info": {
   "codemirror_mode": {
    "name": "ipython",
    "version": 3
   },
   "file_extension": ".py",
   "mimetype": "text/x-python",
   "name": "python",
   "nbconvert_exporter": "python",
   "pygments_lexer": "ipython3",
   "version": "3.4.3"
  },
  "widgets": {
   "state": {
    "5eb98b911a7443c79b4265672de4288a": {
     "views": [
      {
       "cell_index": 0
      }
     ]
    },
    "c2591a2daee74a4eb4dd6eb175f16899": {
     "views": [
      {
       "cell_index": 0
      }
     ]
    },
    "d43e25588ce4435d9f72410b45def043": {
     "views": [
      {
       "cell_index": 0
      }
     ]
    }
   },
   "version": "1.2.0"
  }
 },
 "nbformat": 4,
 "nbformat_minor": 0
}
