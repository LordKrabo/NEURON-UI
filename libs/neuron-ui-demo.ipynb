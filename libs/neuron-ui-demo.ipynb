{
 "cells": [
  {
   "cell_type": "code",
   "execution_count": 1,
   "metadata": {
    "collapsed": false,
    "scrolled": true
   },
   "outputs": [],
   "source": [
    "%load_ext autoreload\n",
    "%autoreload 2\n",
    "from RunControl import *\n",
    "from LoadAndAnalysisPanels import *\n",
    "showRunControlPanel()\n",
    "showSampleModelsPanel()\n",
    "showAnalysisPanel()"
   ]
  },
  {
   "cell_type": "code",
   "execution_count": 2,
   "metadata": {
    "collapsed": false,
    "scrolled": true
   },
   "outputs": [
    {
     "name": "stdout",
     "output_type": "stream",
     "text": [
      "Loading Model...\n"
     ]
    }
   ],
   "source": [
    "from verysimple_cell import *\n",
    "#from simple_cell import *\n",
    "#from simple_network import *"
   ]
  },
  {
   "cell_type": "code",
   "execution_count": 3,
   "metadata": {
    "collapsed": false
   },
   "outputs": [],
   "source": [
    "analysis()"
   ]
  }
 ],
 "metadata": {
  "kernelspec": {
   "display_name": "Python 2",
   "language": "python",
   "name": "python2"
  },
  "language_info": {
   "codemirror_mode": {
    "name": "ipython",
    "version": 2
   },
   "file_extension": ".py",
   "mimetype": "text/x-python",
   "name": "python",
   "nbconvert_exporter": "python",
   "pygments_lexer": "ipython2",
   "version": "2.7.10"
  },
  "widgets": {
   "state": {
    "07e4860ca9b64c1985bdddc68563db13": {
     "views": []
    },
    "07f111d1af344fe9b69b4c30ce121c9d": {
     "views": []
    },
    "0998e4dddcb64ac3a53c1ab35403c638": {
     "views": []
    },
    "1c92ceb36aa3418091ed10b8de9d8de3": {
     "views": []
    },
    "1dd9f58868004f52a8a6e66a2e6c8589": {
     "views": []
    },
    "2a32426277274a32b24836dfc155e9d1": {
     "views": []
    },
    "2f361166a715451e84e2f2c6c13c2937": {
     "views": []
    },
    "2fc50d430f834f62b3ce50d59a881aec": {
     "views": []
    },
    "36306ef893c44b499f653efb11e1b71d": {
     "views": []
    },
    "37c67edfd97343c0ad0196a31f888192": {
     "views": []
    },
    "39d2c793d10d43e3abcef943a1937ca6": {
     "views": []
    },
    "3b0b8721ec6f4b16a3505161bf851f16": {
     "views": []
    },
    "482b841cf1a442b698e13f53df6339f4": {
     "views": []
    },
    "4a37ed70120f44b1959cbe8c78ccb24f": {
     "views": []
    },
    "5397929fbc434fcf9486922a5275f15a": {
     "views": []
    },
    "53c14d634d264afba50aa5c1830b0a83": {
     "views": []
    },
    "57d403405f3240a3b8cc2612cfaad7bb": {
     "views": []
    },
    "5c302532e6ef427587e83ddff1c07584": {
     "views": []
    },
    "5d1c38215e2c460fb14173195fb0f8dd": {
     "views": []
    },
    "5fe1267c2fa64c2bbcc8ce63d19c12e6": {
     "views": []
    },
    "61c49fe71a6b4faf9255b34467ce3cb2": {
     "views": []
    },
    "633ca5d87b8741919fbee1b0a65e332b": {
     "views": []
    },
    "63ed905d6b0d4330a84d78bcda8c5cf4": {
     "views": []
    },
    "69542c7c2cee4ef78ee023e55da4dfe2": {
     "views": []
    },
    "6cadc3c494654e6db9fa4a4583657cc6": {
     "views": []
    },
    "70e71c26cc854fd29f0b83ed5fb87e64": {
     "views": []
    },
    "7dabc7fa62824d62aa54da880b915ab1": {
     "views": []
    },
    "88cf854dd49743a1a53eca24d6a080f8": {
     "views": []
    },
    "9a05fddaede54b36bd844726c952d4ae": {
     "views": []
    },
    "9bf3c2adede347ffba226a644c32e954": {
     "views": []
    },
    "9db17c5c1d9c4206bb8fc07c8ad9276a": {
     "views": []
    },
    "9eae1e9893a7484db5b7bb5f4cf78707": {
     "views": []
    },
    "ab8c90d78b4242f9bad33ecd1ed854a7": {
     "views": []
    },
    "abba08fadd0443c48446b6bfbb3d154a": {
     "views": []
    },
    "b7f50bb881e34056bc7089da5f840b2d": {
     "views": []
    },
    "c02cbf5bbd6347729ce9237b235ee805": {
     "views": []
    },
    "d73d6ad360a54e90ab983ec8d44ffd60": {
     "views": []
    },
    "d9e6547da3c648b889f5c27e86f079b4": {
     "views": []
    },
    "e68ad303b4da436a8d5a3d6d29ec7927": {
     "views": []
    },
    "e7c4cc02422d42b281038a3400fbf521": {
     "views": []
    },
    "e83de77b1196410a89e594723afd3e8a": {
     "views": []
    },
    "ee3d1138d34c45e79e0598ee8eb49793": {
     "views": []
    },
    "effecf05048f45ba8ccbc1c4853706b0": {
     "views": []
    },
    "f70ea20ba48541e09c3060fcba5e3394": {
     "views": []
    }
   },
   "version": "1.1.2"
  }
 },
 "nbformat": 4,
 "nbformat_minor": 0
}
