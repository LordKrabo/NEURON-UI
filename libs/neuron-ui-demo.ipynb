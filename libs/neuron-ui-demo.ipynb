{
 "cells": [
  {
   "cell_type": "code",
   "execution_count": 4,
   "metadata": {
    "collapsed": false,
    "scrolled": true
   },
   "outputs": [
    {
     "name": "stdout",
     "output_type": "stream",
     "text": [
      "Using matplotlib backend: GTK3Agg\n",
      "The autoreload extension is already loaded. To reload it, use:\n",
      "  %reload_ext autoreload\n",
      "Loading Model...\n",
      "Created cell 0\n",
      "Created cell 1\n",
      "Created cell 2\n",
      "Created cell 3\n",
      "Created cell 4\n",
      "Created cell 5\n",
      "Created cell 6\n",
      "Created cell 7\n",
      "Created cell 8\n",
      "Created cell 9\n",
      "Created connection between cell 9 and cell 0\n",
      "Created connection between cell 0 and cell 1\n",
      "Created connection between cell 1 and cell 2\n",
      "Created connection between cell 2 and cell 3\n",
      "Created connection between cell 3 and cell 4\n",
      "Created connection between cell 4 and cell 5\n",
      "Created connection between cell 5 and cell 6\n",
      "Created connection between cell 6 and cell 7\n",
      "Created connection between cell 7 and cell 8\n",
      "Created connection between cell 8 and cell 9\n"
     ]
    }
   ],
   "source": [
    "%matplotlib\n",
    "%load_ext autoreload\n",
    "%autoreload 2\n",
    "from RunControl import *\n",
    "from LoadAndAnalysisPanels import *\n",
    "showRunControlPanel()\n",
    "showSampleModelsPanel()\n",
    "showAnalysisPanel()"
   ]
  },
  {
   "cell_type": "code",
   "execution_count": 2,
   "metadata": {
    "collapsed": false,
    "scrolled": true
   },
   "outputs": [
    {
     "name": "stdout",
     "output_type": "stream",
     "text": [
      "Loading Model...\n"
     ]
    }
   ],
   "source": [
    "from verysimple_cell import *\n",
    "#from simple_cell import *\n",
    "#from simple_network import *"
   ]
  },
  {
   "cell_type": "code",
   "execution_count": 3,
   "metadata": {
    "collapsed": false
   },
   "outputs": [],
   "source": [
    "analysis()"
   ]
  },
  {
   "cell_type": "code",
   "execution_count": null,
   "metadata": {
    "collapsed": true
   },
   "outputs": [],
   "source": [
    "from geppettoJupyter.geppetto_comm import GeppettoCore\n"
   ]
  }
 ],
 "metadata": {
  "kernelspec": {
   "display_name": "Python 3",
   "language": "python",
   "name": "python3"
  },
  "language_info": {
   "codemirror_mode": {
    "name": "ipython",
    "version": 3
   },
   "file_extension": ".py",
   "mimetype": "text/x-python",
   "name": "python",
   "nbconvert_exporter": "python",
   "pygments_lexer": "ipython3",
   "version": "3.4.3"
  },
  "widgets": {
   "state": {
    "7a018e13320f476ca457904af36eb453": {
     "views": [
      {
       "cell_index": 0
      }
     ]
    },
    "808064774bbf4303a40edeea8381f433": {
     "views": [
      {
       "cell_index": 0
      }
     ]
    },
    "fdac982fb70c4d73acdd408fe87b495c": {
     "views": [
      {
       "cell_index": 0
      }
     ]
    }
   },
   "version": "1.2.0"
  }
 },
 "nbformat": 4,
 "nbformat_minor": 0
}
