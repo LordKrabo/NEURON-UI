{
 "cells": [
  {
   "cell_type": "code",
   "execution_count": 3,
   "metadata": {
    "collapsed": false,
    "scrolled": true
   },
   "outputs": [
    {
     "name": "stdout",
     "output_type": "stream",
     "text": [
      "The autoreload extension is already loaded. To reload it, use:\n",
      "  %reload_ext autoreload\n"
     ]
    }
   ],
   "source": [
    "%load_ext autoreload\n",
    "%autoreload 2\n",
    "from RunControl import *\n",
    "from LoadAndAnalysisPanels import *\n",
    "showRunControlPanel()\n",
    "showSampleModelsPanel()\n",
    "showAnalysisPanel()"
   ]
  },
  {
   "cell_type": "code",
   "execution_count": 2,
   "metadata": {
    "collapsed": false,
    "scrolled": true
   },
   "outputs": [
    {
     "name": "stdout",
     "output_type": "stream",
     "text": [
      "Loading Model...\n"
     ]
    }
   ],
   "source": [
    "from verysimple_cell import *\n",
    "#from simple_cell import *\n",
    "#from simple_network import *"
   ]
  },
  {
   "cell_type": "code",
   "execution_count": 3,
   "metadata": {
    "collapsed": false
   },
   "outputs": [],
   "source": [
    "analysis()"
   ]
  }
 ],
 "metadata": {
  "kernelspec": {
   "display_name": "Python 3",
   "language": "python",
   "name": "python3"
  },
  "language_info": {
   "codemirror_mode": {
    "name": "ipython",
    "version": 3
   },
   "file_extension": ".py",
   "mimetype": "text/x-python",
   "name": "python",
   "nbconvert_exporter": "python",
   "pygments_lexer": "ipython3",
   "version": "3.4.3"
  },
  "widgets": {
   "state": {
    "0f48595c251a4e59898e12c151f90ef2": {
     "views": [
      {
       "cell_index": 0
      }
     ]
    },
    "25e0b5640dc242feb8e3cdf27854d31c": {
     "views": [
      {
       "cell_index": 0
      }
     ]
    },
    "3d259970254a4308885b3cd4b2bcb4e8": {
     "views": [
      {
       "cell_index": 0
      }
     ]
    },
    "987e87d562084fe59887698b60a10527": {
     "views": [
      {
       "cell_index": 0
      }
     ]
    },
    "b696080977f3492984bbaa5e6b8e19e6": {
     "views": [
      {
       "cell_index": 0
      }
     ]
    }
   },
   "version": "1.2.0"
  }
 },
 "nbformat": 4,
 "nbformat_minor": 0
}
